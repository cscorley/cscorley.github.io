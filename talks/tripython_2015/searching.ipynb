{
 "cells": [
  {
   "cell_type": "code",
   "execution_count": 1,
   "metadata": {
    "collapsed": false,
    "slideshow": {
     "slide_type": "skip"
    }
   },
   "outputs": [],
   "source": [
    "%matplotlib inline\n",
    "\n",
    "from __future__ import print_function, division\n",
    "\n",
    "from collections import defaultdict\n",
    "import matplotlib\n",
    "import matplotlib.pyplot as plt\n",
    "from mpl_toolkits.mplot3d import axes3d\n",
    "import numpy\n",
    "import scipy\n",
    "import scipy.spatial\n",
    "import pandas\n",
    "import gensim\n",
    "import re"
   ]
  },
  {
   "cell_type": "code",
   "execution_count": 2,
   "metadata": {
    "collapsed": false,
    "slideshow": {
     "slide_type": "skip"
    }
   },
   "outputs": [],
   "source": [
    "def plot_vecs(corpus, query=None, labels=None):\n",
    "    fig = plt.figure(figsize=(4, 4))\n",
    "    c = numpy.array(corpus)\n",
    "    if len(c[0]) == 2:\n",
    "        ax = plt.gca()\n",
    "        ax.quiver([0]*len(c),[0]*len(c),c[:,0],c[:,1],angles='xy',scale_units='xy',scale=1)\n",
    "\n",
    "        if query:\n",
    "            q = numpy.asarray(query)\n",
    "            ax.quiver([0],[0],q[0],q[1],angles='xy',scale_units='xy',scale=1, color='r')\n",
    "\n",
    "        ax.set_xlim([-0.1,c.max()])\n",
    "        ax.set_ylim([-0.1,c.max()])\n",
    "    else:\n",
    "        ax = plt.gca(projection='3d')\n",
    "        for q in c:\n",
    "            ax.quiver(0, 0, 0, q[0], q[1], q[2], length=numpy.linalg.norm(q), arrow_length_ratio=0.1, pivot='tail', color='black')\n",
    "\n",
    "        if query:\n",
    "            q = numpy.asarray(query)\n",
    "            ax.quiver(0, 0, 0, q[0], q[1], q[2], length=numpy.linalg.norm(q), arrow_length_ratio=0.1, pivot='tail', color='r')\n",
    "\n",
    "        ax.set_xlim([0, c.max()])\n",
    "        ax.set_ylim([0, c.max()])\n",
    "        ax.set_zlim([0, c.max()])\n",
    "    lang=labels\n",
    "    if lang:\n",
    "        if len(lang) >= 3:\n",
    "            ax.set_zlabel(lang[2], fontsize=20)\n",
    "        if len(lang) >= 2:\n",
    "            ax.set_ylabel(lang[1], fontsize=20)\n",
    "        if len(lang) >= 1:\n",
    "            ax.set_xlabel(lang[0], fontsize=20)\n",
    "    fig.tight_layout()\n",
    "    plt.show()"
   ]
  },
  {
   "cell_type": "markdown",
   "metadata": {
    "slideshow": {
     "slide_type": "slide"
    }
   },
   "source": [
    "# Building Search Engines with Gensim\n",
    "\n",
    "\n",
    "![tripy](./images/tripython-banner.png)"
   ]
  },
  {
   "cell_type": "markdown",
   "metadata": {
    "slideshow": {
     "slide_type": "fragment"
    }
   },
   "source": [
    "- PhD candidate @ University of Alabama"
   ]
  },
  {
   "cell_type": "markdown",
   "metadata": {
    "slideshow": {
     "slide_type": "fragment"
    }
   },
   "source": [
    "- Roll tide 🌀🌊🌀🐘🏈💯"
   ]
  },
  {
   "cell_type": "markdown",
   "metadata": {
    "slideshow": {
     "slide_type": "fragment"
    }
   },
   "source": [
    "- Search applications for software maintenance tasks\n",
    "    - Code search\n",
    "    - Change request triage"
   ]
  },
  {
   "cell_type": "markdown",
   "metadata": {
    "slideshow": {
     "slide_type": "fragment"
    }
   },
   "source": [
    "- Currently visiting researcher @ ABB\n",
    "    - Looking for new adventures in 2016!"
   ]
  },
  {
   "cell_type": "markdown",
   "metadata": {
    "slideshow": {
     "slide_type": "notes"
    }
   },
   "source": [
    "- Searching through large code bases using more than keyword search\n",
    "- Searching for developers most apt to handle a bug/issue report"
   ]
  },
  {
   "cell_type": "markdown",
   "metadata": {
    "slideshow": {
     "slide_type": "slide"
    }
   },
   "source": [
    "- I have a Twitter ✌️problem✌️\n",
    "    - I tweet really dumb things sometimes"
   ]
  },
  {
   "cell_type": "markdown",
   "metadata": {
    "slideshow": {
     "slide_type": "fragment"
    }
   },
   "source": [
    "- I am looking for a job"
   ]
  },
  {
   "cell_type": "markdown",
   "metadata": {
    "slideshow": {
     "slide_type": "notes"
    }
   },
   "source": [
    "My advisor says I have a Twitter problem. I love Twitter and treat it seriously and facetiously at the same time. Also, jobs.\n",
    "\n",
    "These things don't mix well, apparently.\n",
    "\n",
    "Admitted to being intoxicated and breaking law. Whoops.\n",
    "\n",
    "Do employers want to hire someone that drinks at noon?"
   ]
  },
  {
   "cell_type": "markdown",
   "metadata": {
    "slideshow": {
     "slide_type": "fragment"
    }
   },
   "source": [
    "<blockquote class=\"twitter-tweet\" lang=\"en\"><p lang=\"en\" dir=\"ltr\">I was apparently spotted on the local news being a drunk Alabama fan that flooded the streets after the win last night. Whoops.</p>&mdash; christop corley (@excsc) <a href=\"https://twitter.com/excsc/status/156821367638077440\">January 10, 2012</a></blockquote>\n",
    "<script async src=\"//platform.twitter.com/widgets.js\" charset=\"utf-8\"></script>"
   ]
  },
  {
   "cell_type": "markdown",
   "metadata": {
    "slideshow": {
     "slide_type": "fragment"
    }
   },
   "source": [
    "<blockquote class=\"twitter-tweet\" lang=\"en\"><p lang=\"en\" dir=\"ltr\">instead of lunch I am just going to have a bunch of beers and eat pretzels</p>&mdash; christop corley (@excsc) <a href=\"https://twitter.com/excsc/status/516642590394171393\">September 29, 2014</a></blockquote>\n",
    "<script async src=\"//platform.twitter.com/widgets.js\" charset=\"utf-8\"></script>"
   ]
  },
  {
   "cell_type": "markdown",
   "metadata": {
    "slideshow": {
     "slide_type": "fragment"
    }
   },
   "source": [
    "**CLARIFICATION: I do not \"have a drinking problem\", as my mother likes to claim. I am probably actually quite sober right now!* "
   ]
  },
  {
   "cell_type": "markdown",
   "metadata": {
    "slideshow": {
     "slide_type": "slide"
    }
   },
   "source": [
    "# Let's make a search engine"
   ]
  },
  {
   "cell_type": "markdown",
   "metadata": {
    "slideshow": {
     "slide_type": "notes"
    }
   },
   "source": [
    "So I have a lot of tweets, lets make a search engine to find all of these bad tweets for deletion\n",
    "\n",
    "Lots of different methods for making search engines, but mainly two essential behaviors we want"
   ]
  },
  {
   "cell_type": "markdown",
   "metadata": {
    "slideshow": {
     "slide_type": "fragment"
    }
   },
   "source": [
    "`search(\"drunk\") => [tweets containing the word 'drunk']`"
   ]
  },
  {
   "cell_type": "markdown",
   "metadata": {
    "slideshow": {
     "slide_type": "fragment"
    }
   },
   "source": [
    "`search(\"drunk\") => [tweets *related* to the word 'drunk']`"
   ]
  },
  {
   "cell_type": "code",
   "execution_count": 3,
   "metadata": {
    "collapsed": true,
    "slideshow": {
     "slide_type": "slide"
    }
   },
   "outputs": [],
   "source": [
    "import gensim"
   ]
  },
  {
   "cell_type": "markdown",
   "metadata": {
    "slideshow": {
     "slide_type": "fragment"
    }
   },
   "source": [
    "I'm a `gensim` contributor\n",
    "\n",
    "`gensim`'s ✌️design✌️ is not always great, certainly better tools exist that can supplement or replace parts of this talk, e.g.:\n",
    "\n",
    "1. `whoosh`\n",
    "2. `nltk`\n",
    "3. `scikit-learn`"
   ]
  },
  {
   "cell_type": "markdown",
   "metadata": {
    "slideshow": {
     "slide_type": "notes"
    }
   },
   "source": [
    "OMG WHAT ABOUT GREP?"
   ]
  },
  {
   "cell_type": "markdown",
   "metadata": {
    "slideshow": {
     "slide_type": "fragment"
    }
   },
   "source": [
    "### `grep` is great, but\n",
    "\n",
    "- must search through all documents\n",
    "- not aware of language-specific semantics\n",
    "- does not rank by relevence"
   ]
  },
  {
   "cell_type": "markdown",
   "metadata": {
    "slideshow": {
     "slide_type": "notes"
    }
   },
   "source": [
    "1. First relates to the efficiency (speed): we want results fast!\n",
    "2. Second relates to the effectiveness (quality): we want to avoid false-positives\n",
    "3. Third relates to the effectiveness (quality): we want things ordered by relevence"
   ]
  },
  {
   "cell_type": "markdown",
   "metadata": {
    "slideshow": {
     "slide_type": "slide"
    }
   },
   "source": [
    "# Basics\n",
    "\n",
    "1. **Prepare** the corpus\n",
    "2. **Model** the corpus \n",
    "3. **Index** the corpus\n",
    "4. **Query** fun-time!"
   ]
  },
  {
   "cell_type": "markdown",
   "metadata": {
    "slideshow": {
     "slide_type": "notes"
    }
   },
   "source": [
    "These are the basic steps, all of which gensim can help. However, gensim's most powerful features fall out of number 2!\n",
    "\n",
    "Gensim has some powerful models that can help with many tasks requiring measuring document similarity, not just search.\n",
    "\n",
    "The model we choose will influence how we prepare and index the corpus."
   ]
  },
  {
   "cell_type": "code",
   "execution_count": 4,
   "metadata": {
    "collapsed": true,
    "slideshow": {
     "slide_type": "slide"
    }
   },
   "outputs": [],
   "source": [
    "cat_phrases = [\"meow\",\n",
    "               \"meow meow meow hiss\",\n",
    "               \"meow hiss hiss\",\n",
    "               \"hiss\"\n",
    "              ]"
   ]
  },
  {
   "cell_type": "markdown",
   "metadata": {
    "slideshow": {
     "slide_type": "notes"
    }
   },
   "source": [
    "Let's pretend we have 4 cats that all have different signature catch phrases.\n",
    "\n",
    "Now, we need a good way to represent these cats, but in a way a computer can understand easily."
   ]
  },
  {
   "cell_type": "code",
   "execution_count": 5,
   "metadata": {
    "collapsed": true,
    "slideshow": {
     "slide_type": "fragment"
    }
   },
   "outputs": [],
   "source": [
    "cat_lang = [\"meow\", \"hiss\"]\n",
    "\n",
    "cat_phrase_vectors = [[1, 0],\n",
    "                      [3, 1],\n",
    "                      [1, 2],\n",
    "                      [0, 1]]"
   ]
  },
  {
   "cell_type": "code",
   "execution_count": 6,
   "metadata": {
    "collapsed": false,
    "slideshow": {
     "slide_type": "-"
    }
   },
   "outputs": [
    {
     "data": {
      "image/png": "[encoded data removed]",
      "text/plain": [
       "<matplotlib.figure.Figure at 0x10e32ca90>"
      ]
     },
     "metadata": {},
     "output_type": "display_data"
    }
   ],
   "source": [
    "plot_vecs(cat_phrase_vectors, labels=cat_lang)"
   ]
  },
  {
   "cell_type": "markdown",
   "metadata": {
    "slideshow": {
     "slide_type": "notes"
    }
   },
   "source": [
    "The vector space model\n",
    "\n",
    "Assign words to ids of which position in the vector it will be in"
   ]
  },
  {
   "cell_type": "code",
   "execution_count": 7,
   "metadata": {
    "collapsed": false,
    "slideshow": {
     "slide_type": "slide"
    }
   },
   "outputs": [
    {
     "data": {
      "image/png": "[encoded data removed]",
      "text/plain": [
       "<matplotlib.figure.Figure at 0x10e529150>"
      ]
     },
     "metadata": {},
     "output_type": "display_data"
    }
   ],
   "source": [
    "cat_lang = [\"meow\", \"hiss\"]\n",
    "\n",
    "cat_phrase_vectors = [[1, 0],\n",
    "                      [3, 1],\n",
    "                      [1, 2],\n",
    "                      [0, 1]]\n",
    "other_cat = [1, 1]\n",
    "\n",
    "plot_vecs(cat_phrase_vectors, other_cat, labels=cat_lang)"
   ]
  },
  {
   "cell_type": "code",
   "execution_count": 8,
   "metadata": {
    "collapsed": false,
    "slideshow": {
     "slide_type": "fragment"
    }
   },
   "outputs": [
    {
     "name": "stdout",
     "output_type": "stream",
     "text": [
      "[1, 0] =>  0.707\n",
      "[3, 1] =>  0.894\n",
      "[1, 2] =>  0.949\n",
      "[0, 1] =>  0.707\n"
     ]
    }
   ],
   "source": [
    "for cat in cat_phrase_vectors:\n",
    "    print(\"%s =>  %.3f\" % (cat, 1 - scipy.spatial.distance.cosine(cat, other_cat)))"
   ]
  },
  {
   "cell_type": "markdown",
   "metadata": {
    "slideshow": {
     "slide_type": "notes"
    }
   },
   "source": [
    "Compare all cats we know about to this other cat\n",
    "\n",
    "Read the results.\n",
    "\n",
    "What if we expand our language to include more words?"
   ]
  },
  {
   "cell_type": "code",
   "execution_count": 9,
   "metadata": {
    "collapsed": false,
    "slideshow": {
     "slide_type": "slide"
    }
   },
   "outputs": [
    {
     "data": {
      "image/png": "[encoded data removed]",
      "text/plain": [
       "<matplotlib.figure.Figure at 0x10e4aafd0>"
      ]
     },
     "metadata": {},
     "output_type": "display_data"
    }
   ],
   "source": [
    "cat_lang3 = [\"meow\", \"hiss\", \"purr\"]\n",
    "\n",
    "cat_phrase_vectors3 = [[1, 0, 3],\n",
    "                       [3, 1, 1],\n",
    "                       [1, 2, 0],\n",
    "                       [0, 1, 3]]\n",
    "\n",
    "other_cat3 = [1, 1, 2]\n",
    "\n",
    "plot_vecs(cat_phrase_vectors3, other_cat3, labels=cat_lang3)  # matplotlib whyyy"
   ]
  },
  {
   "cell_type": "markdown",
   "metadata": {
    "slideshow": {
     "slide_type": "notes"
    }
   },
   "source": [
    "This is a very simple example. If we had more than two words in our vocabulary, the dimensionality gets bigger. So, a lot of prep steps are working towards reducing this dimensionality as much as possible.\n",
    "\n",
    "Imagine if we wanted to build a search engine for Wikipedia? 5 million articles and a kajillion words."
   ]
  },
  {
   "cell_type": "markdown",
   "metadata": {
    "slideshow": {
     "slide_type": "slide"
    }
   },
   "source": [
    "# Preparing the corpus\n",
    "\n",
    "1. Tokenizing"
   ]
  },
  {
   "cell_type": "code",
   "execution_count": 10,
   "metadata": {
    "collapsed": false,
    "slideshow": {
     "slide_type": "slide"
    }
   },
   "outputs": [
    {
     "data": {
      "text/plain": [
       "['Jupyter/IPython',\n",
       " 'notebook',\n",
       " 'export',\n",
       " 'to',\n",
       " 'a',\n",
       " 'reveal.js',\n",
       " 'slideshow',\n",
       " 'is',\n",
       " 'pretty',\n",
       " 'cool!']"
      ]
     },
     "execution_count": 10,
     "metadata": {},
     "output_type": "execute_result"
    }
   ],
   "source": [
    "text = \"Jupyter/IPython notebook export to a reveal.js slideshow is pretty cool!\"\n",
    "text.split()"
   ]
  },
  {
   "cell_type": "code",
   "execution_count": 11,
   "metadata": {
    "collapsed": false,
    "slideshow": {
     "slide_type": "fragment"
    }
   },
   "outputs": [
    {
     "data": {
      "text/plain": [
       "[u'Jupyter',\n",
       " u'IPython',\n",
       " u'notebook',\n",
       " u'export',\n",
       " u'to',\n",
       " u'a',\n",
       " u'reveal',\n",
       " u'js',\n",
       " u'slideshow',\n",
       " u'is',\n",
       " u'pretty',\n",
       " u'cool']"
      ]
     },
     "execution_count": 11,
     "metadata": {},
     "output_type": "execute_result"
    }
   ],
   "source": [
    "list(gensim.utils.tokenize(text))"
   ]
  },
  {
   "cell_type": "markdown",
   "metadata": {
    "slideshow": {
     "slide_type": "notes"
    }
   },
   "source": [
    "Gensim has one built-in, but uses a regex that splits on all non-alphabeticals.\n",
    "\n",
    "Splits on slash, but we also filter out '.' and '!'"
   ]
  },
  {
   "cell_type": "markdown",
   "metadata": {
    "slideshow": {
     "slide_type": "slide"
    }
   },
   "source": [
    "## When do we want to tokenize?"
   ]
  },
  {
   "cell_type": "code",
   "execution_count": 12,
   "metadata": {
    "collapsed": false,
    "slideshow": {
     "slide_type": "fragment"
    }
   },
   "outputs": [
    {
     "data": {
      "text/plain": [
       "[u'Jupyter', u'IPython']"
      ]
     },
     "execution_count": 12,
     "metadata": {},
     "output_type": "execute_result"
    }
   ],
   "source": [
    "list(gensim.utils.tokenize(\"Jupyter/IPython\"))"
   ]
  },
  {
   "cell_type": "code",
   "execution_count": 13,
   "metadata": {
    "collapsed": false,
    "slideshow": {
     "slide_type": "fragment"
    }
   },
   "outputs": [
    {
     "data": {
      "text/plain": [
       "[u'AC', u'DC']"
      ]
     },
     "execution_count": 13,
     "metadata": {},
     "output_type": "execute_result"
    }
   ],
   "source": [
    "list(gensim.utils.tokenize(\"AC/DC\"))"
   ]
  },
  {
   "cell_type": "markdown",
   "metadata": {
    "slideshow": {
     "slide_type": "notes"
    }
   },
   "source": [
    "Tokenization is more or less the bare minimum that we need to do to build a VSM.\n",
    "\n",
    "All other prep steps are for reducing the dimensions as much as possible."
   ]
  },
  {
   "cell_type": "markdown",
   "metadata": {
    "slideshow": {
     "slide_type": "slide"
    }
   },
   "source": [
    "# Preparing the corpus\n",
    "\n",
    "1. Tokenizing\n",
    "2. Normalizing"
   ]
  },
  {
   "cell_type": "code",
   "execution_count": 14,
   "metadata": {
    "collapsed": false,
    "slideshow": {
     "slide_type": "fragment"
    }
   },
   "outputs": [
    {
     "data": {
      "text/plain": [
       "'jupyter/ipython notebook export to a reveal.js slideshow is pretty cool!'"
      ]
     },
     "execution_count": 14,
     "metadata": {},
     "output_type": "execute_result"
    }
   ],
   "source": [
    "text.lower()"
   ]
  },
  {
   "cell_type": "markdown",
   "metadata": {
    "slideshow": {
     "slide_type": "fragment"
    }
   },
   "source": [
    "- `\"ipython\" => \"ipython\"`\n",
    "- `\"IPython\" => \"ipython\"`\n",
    "- `\"iPython\" => \"ipython\"`"
   ]
  },
  {
   "cell_type": "markdown",
   "metadata": {
    "slideshow": {
     "slide_type": "notes"
    }
   },
   "source": [
    "The idea is that no matter the casing, we can collapse 3D into a common one"
   ]
  },
  {
   "cell_type": "markdown",
   "metadata": {
    "slideshow": {
     "slide_type": "subslide"
    }
   },
   "source": [
    "# When do we want to normalize?"
   ]
  },
  {
   "cell_type": "code",
   "execution_count": 15,
   "metadata": {
    "collapsed": false,
    "slideshow": {
     "slide_type": "fragment"
    }
   },
   "outputs": [
    {
     "data": {
      "text/plain": [
       "'tripython'"
      ]
     },
     "execution_count": 15,
     "metadata": {},
     "output_type": "execute_result"
    }
   ],
   "source": [
    "\"TriPython\".lower()"
   ]
  },
  {
   "cell_type": "code",
   "execution_count": 16,
   "metadata": {
    "collapsed": false,
    "slideshow": {
     "slide_type": "fragment"
    }
   },
   "outputs": [
    {
     "data": {
      "text/plain": [
       "'apple'"
      ]
     },
     "execution_count": 16,
     "metadata": {},
     "output_type": "execute_result"
    }
   ],
   "source": [
    "\"Apple\".lower()"
   ]
  },
  {
   "cell_type": "markdown",
   "metadata": {
    "slideshow": {
     "slide_type": "notes"
    }
   },
   "source": [
    "\"an apple I am about to eat\"\n",
    "\"an apple computer I am about to eat\"\n",
    "\n",
    "This is generally ok, we can hopefully rely on other key words in the phrase such as \"computer\" or \"grapes\" to help us out"
   ]
  },
  {
   "cell_type": "markdown",
   "metadata": {
    "slideshow": {
     "slide_type": "slide"
    }
   },
   "source": [
    " # Preparing the corpus\n",
    "\n",
    "1. Tokenizing\n",
    "2. Normalizing\n",
    "3. Stopword removal"
   ]
  },
  {
   "cell_type": "code",
   "execution_count": 17,
   "metadata": {
    "collapsed": false,
    "slideshow": {
     "slide_type": "fragment"
    }
   },
   "outputs": [
    {
     "data": {
      "text/plain": [
       "'a about above across after afterwards again against all almost alone along already also although always am among amongst amoungst amount an and another any anyhow anyone anything anyway anywhere are around as at back be became because become becomes becoming been before beforehand behind being below beside besides between beyond bill both bottom but by call can cannot cant co computer con could couldnt cry de describe detail did didn do does doesn doing don done down due during each eg eight either eleven else elsewhere empty enough etc even ever every everyone everything everywhere except few fifteen fify fill find fire first five for former formerly forty found four from front full further get give go had has hasnt have he hence her here hereafter hereby herein hereupon hers herself him himself his how however hundred i ie if in inc indeed interest into is it its itself just keep kg km last latter latterly least less ltd made make many may me meanwhile might mill mine more moreover most mostly move much must my myself name namely neither never nevertheless next nine no nobody none noone nor not nothing now nowhere of off often on once one only onto or other others otherwise our ours ourselves out over own part per perhaps please put quite rather re really regarding same say see seem seemed seeming seems serious several she should show side since sincere six sixty so some somehow someone something sometime sometimes somewhere still such system take ten than that the their them themselves then thence there thereafter thereby therefore therein thereupon these they thick thin third this those though three through throughout thru thus to together too top toward towards twelve twenty two un under unless until up upon us used using various very via was we well were what whatever when whence whenever where whereafter whereas whereby wherein whereupon wherever whether which while whither who whoever whole whom whose why will with within without would yet you your yours yourself yourselves'"
      ]
     },
     "execution_count": 17,
     "metadata": {},
     "output_type": "execute_result"
    }
   ],
   "source": [
    "' '.join(sorted(gensim.parsing.STOPWORDS))"
   ]
  },
  {
   "cell_type": "markdown",
   "metadata": {
    "slideshow": {
     "slide_type": "notes"
    }
   },
   "source": [
    "These words are usually very common, and end up adding noise to our vectors. Little value."
   ]
  },
  {
   "cell_type": "code",
   "execution_count": 18,
   "metadata": {
    "collapsed": false,
    "slideshow": {
     "slide_type": "subslide"
    }
   },
   "outputs": [
    {
     "data": {
      "text/plain": [
       "[u'jupyter',\n",
       " u'ipython',\n",
       " u'notebook',\n",
       " u'export',\n",
       " u'to',\n",
       " u'a',\n",
       " u'reveal',\n",
       " u'js',\n",
       " u'slideshow',\n",
       " u'is',\n",
       " u'pretty',\n",
       " u'cool']"
      ]
     },
     "execution_count": 18,
     "metadata": {},
     "output_type": "execute_result"
    }
   ],
   "source": [
    "list(gensim.utils.tokenize(text.lower()))"
   ]
  },
  {
   "cell_type": "code",
   "execution_count": 19,
   "metadata": {
    "collapsed": false
   },
   "outputs": [
    {
     "data": {
      "text/plain": [
       "[u'jupyter',\n",
       " u'ipython',\n",
       " u'notebook',\n",
       " u'export',\n",
       " u'reveal',\n",
       " u'js',\n",
       " u'slideshow',\n",
       " u'pretty',\n",
       " u'cool']"
      ]
     },
     "execution_count": 19,
     "metadata": {},
     "output_type": "execute_result"
    }
   ],
   "source": [
    "[word for word in gensim.utils.tokenize(text.lower()) if word not in gensim.parsing.STOPWORDS]"
   ]
  },
  {
   "cell_type": "markdown",
   "metadata": {
    "slideshow": {
     "slide_type": "notes"
    }
   },
   "source": [
    "We still get the gist of this tweet, it's about IPython slides."
   ]
  },
  {
   "cell_type": "code",
   "execution_count": 20,
   "metadata": {
    "collapsed": false,
    "slideshow": {
     "slide_type": "subslide"
    }
   },
   "outputs": [
    {
     "name": "stdout",
     "output_type": "stream",
     "text": [
      "[nltk_data] Downloading package stopwords to\n",
      "[nltk_data]     /Users/cscorley/nltk_data...\n",
      "[nltk_data]   Package stopwords is already up-to-date!\n"
     ]
    },
    {
     "data": {
      "text/plain": [
       "u'a about above after again against all am an and any are as at be because been before being below between both but by can did do does doing don down during each few for from further had has have having he her here hers herself him himself his how i if in into is it its itself just me more most my myself no nor not now of off on once only or other our ours ourselves out over own s same she should so some such t than that the their theirs them themselves then there these they this those through to too under until up very was we were what when where which while who whom why will with you your yours yourself yourselves'"
      ]
     },
     "execution_count": 20,
     "metadata": {},
     "output_type": "execute_result"
    }
   ],
   "source": [
    "import nltk\n",
    "nltk.download('stopwords')\n",
    "' '.join(sorted(nltk.corpus.stopwords.words('english')))"
   ]
  },
  {
   "cell_type": "markdown",
   "metadata": {
    "slideshow": {
     "slide_type": "notes"
    }
   },
   "source": [
    "NLTK is good, much more conservative English list. But importantly, has more lists than just English."
   ]
  },
  {
   "cell_type": "markdown",
   "metadata": {
    "slideshow": {
     "slide_type": "subslide"
    }
   },
   "source": [
    "# When do we want to remove stop words?"
   ]
  },
  {
   "cell_type": "code",
   "execution_count": 21,
   "metadata": {
    "collapsed": false,
    "slideshow": {
     "slide_type": "fragment"
    }
   },
   "outputs": [
    {
     "data": {
      "text/plain": [
       "['cat', 'sat', 'keyboard']"
      ]
     },
     "execution_count": 21,
     "metadata": {},
     "output_type": "execute_result"
    }
   ],
   "source": [
    "[word for word in \"the cat sat on the keyboard\".split() if word not in gensim.parsing.STOPWORDS]"
   ]
  },
  {
   "cell_type": "code",
   "execution_count": 22,
   "metadata": {
    "collapsed": false,
    "slideshow": {
     "slide_type": "fragment"
    }
   },
   "outputs": [
    {
     "data": {
      "text/plain": [
       "['beatles', 'overrated']"
      ]
     },
     "execution_count": 22,
     "metadata": {},
     "output_type": "execute_result"
    }
   ],
   "source": [
    "[word for word in \"the beatles were overrated\".split() if word not in gensim.parsing.STOPWORDS]"
   ]
  },
  {
   "cell_type": "markdown",
   "metadata": {
    "slideshow": {
     "slide_type": "notes"
    }
   },
   "source": [
    "Was he talking about beatles as in bugs being overrated, if so then who cares?\n",
    "\n",
    "If he was talking about THE beatles, maybe we dont want to hire this guy cause he obviously has no taste"
   ]
  },
  {
   "cell_type": "markdown",
   "metadata": {
    "slideshow": {
     "slide_type": "slide"
    }
   },
   "source": [
    "# Preparing the corpus\n",
    "\n",
    "1. Tokenizing\n",
    "2. Normalizing\n",
    "3. Stopword removal\n",
    "    - Short/Long word removal\n",
    "    - Words that appear in too many or few documents"
   ]
  },
  {
   "cell_type": "code",
   "execution_count": 23,
   "metadata": {
    "collapsed": false,
    "slideshow": {
     "slide_type": "fragment"
    }
   },
   "outputs": [
    {
     "data": {
      "text/plain": [
       "['the', 'cat', 'sat', 'the', 'keyboard']"
      ]
     },
     "execution_count": 23,
     "metadata": {},
     "output_type": "execute_result"
    }
   ],
   "source": [
    "[word for word in \"the cat sat on the keyboard lllllbbbnnnnnbbbbbbbbbbbbbbbbb\".split()\n",
    "      if len(word) > 2 and len(word) < 30]"
   ]
  },
  {
   "cell_type": "markdown",
   "metadata": {
    "slideshow": {
     "slide_type": "slide"
    }
   },
   "source": [
    "# Preparing the corpus\n",
    "\n",
    "1. Tokenizing\n",
    "2. Normalizing\n",
    "3. Stopword removal\n",
    "4. Stemming"
   ]
  },
  {
   "cell_type": "code",
   "execution_count": 24,
   "metadata": {
    "collapsed": false,
    "slideshow": {
     "slide_type": "fragment"
    }
   },
   "outputs": [
    {
     "name": "stdout",
     "output_type": "stream",
     "text": [
      "running => run\n",
      "runs => run\n"
     ]
    }
   ],
   "source": [
    "for word in \"the runner ran on the running trail for their runs\".split():\n",
    "    \n",
    "    stemmed_word = gensim.parsing.stem(word)\n",
    "    \n",
    "    if stemmed_word != word:\n",
    "        print(word, \"=>\", stemmed_word)"
   ]
  },
  {
   "cell_type": "markdown",
   "metadata": {
    "slideshow": {
     "slide_type": "notes"
    }
   },
   "source": [
    "Stemming is about reducing a word to it's root form.\n",
    "\n",
    "Dropping -ing and -s gives us the same words, just not in very good english"
   ]
  },
  {
   "cell_type": "markdown",
   "metadata": {
    "slideshow": {
     "slide_type": "subslide"
    }
   },
   "source": [
    "## When do we want to stem words?"
   ]
  },
  {
   "cell_type": "code",
   "execution_count": 25,
   "metadata": {
    "collapsed": false
   },
   "outputs": [
    {
     "data": {
      "text/plain": [
       "u'run'"
      ]
     },
     "execution_count": 25,
     "metadata": {},
     "output_type": "execute_result"
    }
   ],
   "source": [
    "gensim.parsing.stem(\"running\")"
   ]
  },
  {
   "cell_type": "code",
   "execution_count": 26,
   "metadata": {
    "collapsed": false
   },
   "outputs": [
    {
     "data": {
      "text/plain": [
       "u'jupyt'"
      ]
     },
     "execution_count": 26,
     "metadata": {},
     "output_type": "execute_result"
    }
   ],
   "source": [
    "gensim.parsing.stem(\"jupyter\")"
   ]
  },
  {
   "cell_type": "markdown",
   "metadata": {
    "slideshow": {
     "slide_type": "subslide"
    }
   },
   "source": [
    "### Stemming alternative: lemmatization!"
   ]
  },
  {
   "cell_type": "code",
   "execution_count": 27,
   "metadata": {
    "collapsed": false,
    "slideshow": {
     "slide_type": "fragment"
    }
   },
   "outputs": [
    {
     "data": {
      "text/plain": [
       "['the/DT',\n",
       " 'runner/NN',\n",
       " 'run/VB',\n",
       " 'on/IN',\n",
       " 'the/DT',\n",
       " 'run/VB',\n",
       " 'trail/NN',\n",
       " 'for/IN',\n",
       " 'their/PR',\n",
       " 'run/NN']"
      ]
     },
     "execution_count": 27,
     "metadata": {},
     "output_type": "execute_result"
    }
   ],
   "source": [
    "gensim.utils.lemmatize(\"the runner ran on the running trail for their runs\",\n",
    "                       allowed_tags=re.compile(\".*\"))"
   ]
  },
  {
   "cell_type": "code",
   "execution_count": 28,
   "metadata": {
    "collapsed": false,
    "slideshow": {
     "slide_type": "fragment"
    }
   },
   "outputs": [
    {
     "data": {
      "text/plain": [
       "['runner/NN', 'run/VB', 'run/VB', 'trail/NN', 'run/NN']"
      ]
     },
     "execution_count": 28,
     "metadata": {},
     "output_type": "execute_result"
    }
   ],
   "source": [
    "gensim.utils.lemmatize(\"the runner ran on the running trail for their runs\")"
   ]
  },
  {
   "cell_type": "markdown",
   "metadata": {
    "slideshow": {
     "slide_type": "notes"
    }
   },
   "source": [
    "Lemmatize uses an external library to something LIKE stemming, and also add parts of speech tagging\n",
    "\n",
    "This will reduce words like ran to run as a verb, but also adds new dimensions for runs to run as a noun"
   ]
  },
  {
   "cell_type": "markdown",
   "metadata": {
    "slideshow": {
     "slide_type": "slide"
    }
   },
   "source": [
    "## Putting it all together"
   ]
  },
  {
   "cell_type": "code",
   "execution_count": 29,
   "metadata": {
    "collapsed": false,
    "slideshow": {
     "slide_type": "fragment"
    }
   },
   "outputs": [
    {
     "data": {
      "text/plain": [
       "[u'jupyter',\n",
       " u'ipython',\n",
       " u'notebook',\n",
       " u'export',\n",
       " u'reveal',\n",
       " u'js',\n",
       " u'slideshow',\n",
       " u'pretty',\n",
       " u'cool']"
      ]
     },
     "execution_count": 29,
     "metadata": {},
     "output_type": "execute_result"
    }
   ],
   "source": [
    "def preprocess(text):\n",
    "    for word in gensim.utils.tokenize(text.lower()):\n",
    "        if word not in gensim.parsing.STOPWORDS and len(word) > 1:\n",
    "            yield word\n",
    "            \n",
    "list(preprocess(\"Jupyter/IPython notebook export to a reveal.js slideshow is pretty cool!\"))"
   ]
  },
  {
   "cell_type": "markdown",
   "metadata": {
    "slideshow": {
     "slide_type": "notes"
    }
   },
   "source": [
    "I've made some arbitrary choices."
   ]
  },
  {
   "cell_type": "code",
   "execution_count": 30,
   "metadata": {
    "collapsed": false,
    "slideshow": {
     "slide_type": "fragment"
    }
   },
   "outputs": [
    {
     "data": {
      "text/plain": [
       "[u'jupyt',\n",
       " u'ipython',\n",
       " u'notebook',\n",
       " u'export',\n",
       " u'reveal',\n",
       " u'slideshow',\n",
       " u'pretti',\n",
       " u'cool']"
      ]
     },
     "execution_count": 30,
     "metadata": {},
     "output_type": "execute_result"
    }
   ],
   "source": [
    "gensim.parsing.preprocess_string(\"Jupyter/IPython notebook export to a reveal.js slideshow is pretty cool!\")"
   ]
  },
  {
   "cell_type": "markdown",
   "metadata": {
    "slideshow": {
     "slide_type": "slide"
    }
   },
   "source": [
    "# The corpus\n",
    "\n",
    "My twitter archive"
   ]
  },
  {
   "cell_type": "code",
   "execution_count": 31,
   "metadata": {
    "collapsed": false
   },
   "outputs": [
    {
     "name": "stdout",
     "output_type": "stream",
     "text": [
      "\"tweet_id\",\"in_reply_to_status_id\",\"in_reply_to_user_id\",\"timestamp\",\"source\",\"text\",\"retweeted_status_id\",\"retweeted_status_user_id\",\"retweeted_status_timestamp\",\"expanded_urls\"\r\n"
     ]
    }
   ],
   "source": [
    "!head -1 tweets.csv"
   ]
  },
  {
   "cell_type": "markdown",
   "metadata": {
    "slideshow": {
     "slide_type": "notes"
    }
   },
   "source": [
    "Chose this not because I wanted to subject you to my bad tweets, but because it's small, easy to get and nicely formatted"
   ]
  },
  {
   "cell_type": "code",
   "execution_count": 32,
   "metadata": {
    "collapsed": true,
    "slideshow": {
     "slide_type": "subslide"
    }
   },
   "outputs": [],
   "source": [
    "import csv\n",
    "\n",
    "class TwitterArchiveCorpus():\n",
    "    def __init__(self, archive_path):\n",
    "        self.path = archive_path\n",
    "        \n",
    "    def iter_texts(self):\n",
    "        with open(self.path) as f:\n",
    "            for row in csv.DictReader(f):\n",
    "                if (row[\"retweeted_status_id\"] == \"\" and   # filter retweets\n",
    "                    not row[\"text\"].startswith(\"RT @\") and\n",
    "                    row[\"in_reply_to_status_id\"] == \"\" and # filter replies\n",
    "                    not row[\"text\"].startswith(\"@\")):\n",
    "                    \n",
    "                    yield preprocess(row[\"text\"])\n",
    "\n",
    "tweets = TwitterArchiveCorpus(\"tweets.csv\")"
   ]
  },
  {
   "cell_type": "markdown",
   "metadata": {
    "slideshow": {
     "slide_type": "notes"
    }
   },
   "source": [
    "General gensim pattern for doing corpus reading will use an \"iterable container\" pattern\n",
    "\n",
    "I've chosen to ignore retweets and replies. Just look at tweets I wrote."
   ]
  },
  {
   "cell_type": "code",
   "execution_count": 33,
   "metadata": {
    "collapsed": false,
    "slideshow": {
     "slide_type": "fragment"
    }
   },
   "outputs": [
    {
     "name": "stdout",
     "output_type": "stream",
     "text": [
      "[u'roll', u'tide', u'roll']\n",
      "[u'yes', u'yes', u'yes']\n"
     ]
    }
   ],
   "source": [
    "texts = tweets.iter_texts()\n",
    "\n",
    "print(list(next(texts)))\n",
    "print(list(next(texts)))"
   ]
  },
  {
   "cell_type": "code",
   "execution_count": 34,
   "metadata": {
    "collapsed": false
   },
   "outputs": [
    {
     "name": "stdout",
     "output_type": "stream",
     "text": [
      "text\r\n",
      "roll tide roll, y'all.\r\n",
      "yes yes yes\r\n"
     ]
    }
   ],
   "source": [
    "!head -3 tweets.csv | awk -F '\",\"' '{print $6}'"
   ]
  },
  {
   "cell_type": "markdown",
   "metadata": {
    "slideshow": {
     "slide_type": "notes"
    }
   },
   "source": [
    "What happened to \"y'all\"? Here's a consequence of some prep steps I chose"
   ]
  },
  {
   "cell_type": "markdown",
   "metadata": {
    "slideshow": {
     "slide_type": "slide"
    }
   },
   "source": [
    "# Basics\n",
    "\n",
    "1. **Prepare** the corpus\n",
    "2. **Model** the corpus \n",
    "3. **Index** the corpus\n",
    "4. **Query** fun-time!"
   ]
  },
  {
   "cell_type": "code",
   "execution_count": 35,
   "metadata": {
    "collapsed": false
   },
   "outputs": [
    {
     "data": {
      "image/png": "[encoded data removed]",
      "text/plain": [
       "<matplotlib.figure.Figure at 0x1104a6a10>"
      ]
     },
     "metadata": {},
     "output_type": "display_data"
    }
   ],
   "source": [
    "plot_vecs(cat_phrase_vectors, other_cat, labels=cat_lang)"
   ]
  },
  {
   "cell_type": "code",
   "execution_count": 36,
   "metadata": {
    "collapsed": false,
    "slideshow": {
     "slide_type": "slide"
    }
   },
   "outputs": [],
   "source": [
    "class TwitterArchiveCorpus():\n",
    "    def __init__(self, archive_path):\n",
    "        self.path = archive_path\n",
    "        self.dictionary = gensim.corpora.Dictionary(self.iter_texts())\n",
    "        \n",
    "    def iter_texts(self):\n",
    "        with open(self.path) as f:\n",
    "            for row in csv.DictReader(f):\n",
    "                if (row[\"retweeted_status_id\"] == \"\" and    # filter retweets\n",
    "                    not row[\"text\"].startswith(\"RT @\") and\n",
    "                    row[\"in_reply_to_status_id\"] == \"\" and  # filter replies\n",
    "                    not row[\"text\"].startswith(\"@\")):\n",
    "                    \n",
    "                    yield preprocess(row[\"text\"])\n",
    "                \n",
    "    def __iter__(self):\n",
    "        for document in self.iter_texts():\n",
    "            yield self.dictionary.doc2bow(document)\n",
    "\n",
    "    def __len__(self):\n",
    "        return self.dictionary.num_docs\n",
    "    \n",
    "    def get_original(self, key):\n",
    "        pass  # let's not look at this :-)\n",
    "\n",
    "tweets = TwitterArchiveCorpus(\"tweets.csv\")"
   ]
  },
  {
   "cell_type": "code",
   "execution_count": 37,
   "metadata": {
    "collapsed": false,
    "slideshow": {
     "slide_type": "fragment"
    }
   },
   "outputs": [
    {
     "data": {
      "text/plain": [
       "{'hiss': 1, 'meow': 0, 'purr': 2}"
      ]
     },
     "execution_count": 37,
     "metadata": {},
     "output_type": "execute_result"
    }
   ],
   "source": [
    "{\"meow\": 0,\n",
    " \"hiss\": 1,\n",
    " \"purr\": 2}"
   ]
  },
  {
   "cell_type": "markdown",
   "metadata": {
    "slideshow": {
     "slide_type": "notes"
    }
   },
   "source": [
    "Dictionary will make translating docs into vector space very easy. Goes thru text, creating a mapping of words to ids, counting stats.\n",
    "\n",
    "bow is \"bag of words\", or a way to represent docs as sparse vectors"
   ]
  },
  {
   "cell_type": "code",
   "execution_count": 38,
   "metadata": {
    "collapsed": false,
    "slideshow": {
     "slide_type": "skip"
    }
   },
   "outputs": [],
   "source": [
    "class TwitterArchiveCorpus():\n",
    "    def __init__(self, archive_path):\n",
    "        self.path = archive_path\n",
    "        self.lookup = dict()\n",
    "        self.dictionary = gensim.corpora.Dictionary(self.iter_texts())\n",
    "        \n",
    "    def iter_texts(self):\n",
    "        current = 0\n",
    "        with open(self.path) as f:\n",
    "            for row in csv.DictReader(f):\n",
    "                if (row[\"retweeted_status_id\"] == \"\" and   # filter retweets\n",
    "                    not row[\"text\"].startswith(\"RT @\") and\n",
    "                    row[\"in_reply_to_status_id\"] == \"\" and # filter replies\n",
    "                    not row[\"text\"].startswith(\"@\")):\n",
    "                    self.lookup[current] = row # BAD BAD BAD\n",
    "                    current += 1\n",
    "                    yield preprocess(row[\"text\"])\n",
    "            \n",
    "    def __iter__(self):\n",
    "        for document in self.iter_texts():\n",
    "            yield self.dictionary.doc2bow(document)\n",
    "            \n",
    "    def __len__(self):\n",
    "        return self.dictionary.num_docs\n",
    "            \n",
    "    def get_original(self, key):\n",
    "        return self.lookup[key][\"text\"]\n",
    "\n",
    "    \n",
    "tweets = TwitterArchiveCorpus(\"tweets.csv\")"
   ]
  },
  {
   "cell_type": "code",
   "execution_count": 39,
   "metadata": {
    "collapsed": false,
    "slideshow": {
     "slide_type": "subslide"
    }
   },
   "outputs": [
    {
     "name": "stdout",
     "output_type": "stream",
     "text": [
      "[(0, 1), (1, 2)]\n",
      "[(2, 3)]\n"
     ]
    }
   ],
   "source": [
    "vecs = iter(tweets)\n",
    "\n",
    "print(next(vecs))\n",
    "print(next(vecs))"
   ]
  },
  {
   "cell_type": "code",
   "execution_count": 40,
   "metadata": {
    "collapsed": false,
    "slideshow": {
     "slide_type": "-"
    }
   },
   "outputs": [
    {
     "name": "stdout",
     "output_type": "stream",
     "text": [
      "[u'roll', u'tide', u'roll']\n",
      "[u'yes', u'yes', u'yes']\n"
     ]
    }
   ],
   "source": [
    "texts = tweets.iter_texts()\n",
    "\n",
    "print(list(next(texts)))\n",
    "print(list(next(texts)))"
   ]
  },
  {
   "cell_type": "code",
   "execution_count": 41,
   "metadata": {
    "collapsed": false,
    "slideshow": {
     "slide_type": "-"
    }
   },
   "outputs": [
    {
     "name": "stdout",
     "output_type": "stream",
     "text": [
      "roll tide roll, y'all.\n",
      "yes yes yes\n"
     ]
    }
   ],
   "source": [
    "print(tweets.get_original(0))\n",
    "print(tweets.get_original(1))"
   ]
  },
  {
   "cell_type": "code",
   "execution_count": 42,
   "metadata": {
    "collapsed": false,
    "slideshow": {
     "slide_type": "fragment"
    }
   },
   "outputs": [
    {
     "data": {
      "text/plain": [
       "(4411, 9294)"
      ]
     },
     "execution_count": 42,
     "metadata": {},
     "output_type": "execute_result"
    }
   ],
   "source": [
    "len(tweets), len(tweets.dictionary)"
   ]
  },
  {
   "cell_type": "code",
   "execution_count": 43,
   "metadata": {
    "collapsed": false,
    "slideshow": {
     "slide_type": "-"
    }
   },
   "outputs": [
    {
     "data": {
      "text/plain": [
       "39.0966739654541"
      ]
     },
     "execution_count": 43,
     "metadata": {},
     "output_type": "execute_result"
    }
   ],
   "source": [
    "(len(tweets) * len(tweets.dictionary)) / (1024 ** 2)"
   ]
  },
  {
   "cell_type": "markdown",
   "metadata": {
    "slideshow": {
     "slide_type": "notes"
    }
   },
   "source": [
    "Turns out I don't use a lot of different words, just 9000!\n",
    "\n",
    "This is why gensim does sparse vectors and generators everywhere! Imagine loading a corpus bigger than this into memory."
   ]
  },
  {
   "cell_type": "markdown",
   "metadata": {
    "slideshow": {
     "slide_type": "slide"
    }
   },
   "source": [
    "# Basics\n",
    "\n",
    "1. **Prepare** the corpus\n",
    "2. **Model** the corpus \n",
    "3. **Index** the corpus\n",
    "4. **Query** fun-time!"
   ]
  },
  {
   "cell_type": "code",
   "execution_count": 44,
   "metadata": {
    "collapsed": false
   },
   "outputs": [
    {
     "data": {
      "image/png": "[encoded data removed]",
      "text/plain": [
       "<matplotlib.figure.Figure at 0x111581710>"
      ]
     },
     "metadata": {},
     "output_type": "display_data"
    }
   ],
   "source": [
    "plot_vecs(cat_phrase_vectors, other_cat, labels=cat_lang)"
   ]
  },
  {
   "cell_type": "code",
   "execution_count": 45,
   "metadata": {
    "collapsed": true,
    "slideshow": {
     "slide_type": "slide"
    }
   },
   "outputs": [],
   "source": [
    "index = gensim.similarities.Similarity('/tmp/tweets',\n",
    "                                       tweets, \n",
    "                                       num_features=len(tweets.dictionary), \n",
    "                                       num_best=15)"
   ]
  },
  {
   "cell_type": "code",
   "execution_count": 46,
   "metadata": {
    "collapsed": false,
    "slideshow": {
     "slide_type": "-"
    }
   },
   "outputs": [
    {
     "name": "stdout",
     "output_type": "stream",
     "text": [
      "/tmp/tweets.0\r\n"
     ]
    }
   ],
   "source": [
    "!ls /tmp/tweets*"
   ]
  },
  {
   "cell_type": "markdown",
   "metadata": {
    "slideshow": {
     "slide_type": "notes"
    }
   },
   "source": [
    "- prefix= does sharding!\n",
    "- num_features= because we are using sparse vectors, this gives it a hint of what the max is\n",
    "- num_best= just tells it to show 15 results (just for presentation purposes)\n",
    "\n",
    "What does this class do? What kind of indexing"
   ]
  },
  {
   "cell_type": "markdown",
   "metadata": {
    "slideshow": {
     "slide_type": "slide"
    }
   },
   "source": [
    "# Basics\n",
    "\n",
    "1. **Prepare** the corpus\n",
    "2. **Model** the corpus \n",
    "3. **Index** the corpus\n",
    "4. **Query** fun-time!"
   ]
  },
  {
   "cell_type": "code",
   "execution_count": 47,
   "metadata": {
    "collapsed": false
   },
   "outputs": [
    {
     "data": {
      "image/png": "[encoded data removed]",
      "text/plain": [
       "<matplotlib.figure.Figure at 0x111d6bd50>"
      ]
     },
     "metadata": {},
     "output_type": "display_data"
    }
   ],
   "source": [
    "plot_vecs(cat_phrase_vectors, other_cat, labels=cat_lang)"
   ]
  },
  {
   "cell_type": "code",
   "execution_count": 48,
   "metadata": {
    "collapsed": false,
    "slideshow": {
     "slide_type": "subslide"
    }
   },
   "outputs": [
    {
     "data": {
      "text/plain": [
       "[(1193, 1)]"
      ]
     },
     "execution_count": 48,
     "metadata": {},
     "output_type": "execute_result"
    }
   ],
   "source": [
    "query_bow = tweets.dictionary.doc2bow(preprocess(\"drunk\"))\n",
    "query_bow"
   ]
  },
  {
   "cell_type": "code",
   "execution_count": 49,
   "metadata": {
    "collapsed": false,
    "slideshow": {
     "slide_type": "fragment"
    }
   },
   "outputs": [
    {
     "data": {
      "text/plain": [
       "[(275, 0.57735025882720947),\n",
       " (2463, 0.57735025882720947),\n",
       " (420, 0.44721359014511108),\n",
       " (3170, 0.44721359014511108),\n",
       " (2530, 0.3333333432674408),\n",
       " (3903, 0.31622776389122009),\n",
       " (3290, 0.30151134729385376),\n",
       " (3928, 0.28867512941360474)]"
      ]
     },
     "execution_count": 49,
     "metadata": {},
     "output_type": "execute_result"
    }
   ],
   "source": [
    "index[query_bow]"
   ]
  },
  {
   "cell_type": "markdown",
   "metadata": {
    "slideshow": {
     "slide_type": "notes"
    }
   },
   "source": [
    "We gotta translate our query phrase into vector space.\n",
    "\n",
    "doing getitem on the index will \"query\" it and give us a document id and it's relatedness to the query"
   ]
  },
  {
   "cell_type": "code",
   "execution_count": 50,
   "metadata": {
    "collapsed": false,
    "slideshow": {
     "slide_type": "fragment"
    }
   },
   "outputs": [],
   "source": [
    "def search(query):\n",
    "    \n",
    "    query_bow = tweets.dictionary.doc2bow(preprocess(query))\n",
    "    \n",
    "    for doc, percent in index[query_bow]:\n",
    "        print(\"%.3f\" % percent, \"=>\", tweets.get_original(doc), \"\\n\")"
   ]
  },
  {
   "cell_type": "code",
   "execution_count": 51,
   "metadata": {
    "collapsed": false,
    "slideshow": {
     "slide_type": "subslide"
    }
   },
   "outputs": [
    {
     "name": "stdout",
     "output_type": "stream",
     "text": [
      "0.577 => IEEEtrans.cls is drunk \n",
      "\n",
      "0.577 => The university's DNS is drunk \n",
      "\n",
      "0.447 => coffee: it's like getting reverse drunk \n",
      "\n",
      "0.447 => OH: \"Drunk screaming hotdog trivia.\" \n",
      "\n",
      "0.333 => Damn phone typoing names. BTW I AM DRUNK AT A BOY BAND CONCERT \n",
      "\n",
      "0.316 => Greatest party theme of the day: Black out in solidarity with internet freedom. #sopa #drunk \n",
      "\n",
      "0.302 => The chemistry department that we share a building with has alcohol at events all the time. Why aren't I allowed to get drunk in the lab? \n",
      "\n",
      "0.289 => I was apparently spotted on the local news being a drunk Alabama fan that flooded the streets after the win last night. Whoops. \n",
      "\n"
     ]
    }
   ],
   "source": [
    "search(\"drunk\")"
   ]
  },
  {
   "cell_type": "markdown",
   "metadata": {
    "slideshow": {
     "slide_type": "notes"
    }
   },
   "source": [
    "Point out that shorter tweets are marked as more related! \n",
    "\n",
    "When we get more words, the vector changes direction slightly, making it less related!"
   ]
  },
  {
   "cell_type": "code",
   "execution_count": 52,
   "metadata": {
    "collapsed": false,
    "slideshow": {
     "slide_type": "subslide"
    }
   },
   "outputs": [
    {
     "name": "stdout",
     "output_type": "stream",
     "text": [
      "0.516 => the sports bar I went to watch the game at doesn't even get SEC network what kind of garbage \"sports bar\" is this \n",
      "\n",
      "0.500 => Cashing your check at the bar. #classy \n",
      "\n",
      "0.378 => guy at bar next to me just told someone  he once worked 175 hours in one week. lol. \n",
      "\n",
      "0.354 => Summertime translation: candy bar &lt;-&gt; corn ear \n",
      "\n",
      "0.354 => Current status: Spongebob and Patrick have just entered the Thug Tug bar... \n",
      "\n",
      "0.354 => *puts pants on, goes to hotel bar to drink away this game* \n",
      "\n",
      "0.354 => Dude next to me at the airport bar is chewing with his mouth open and I just want to scream. \n",
      "\n",
      "0.333 => Just saw a bar touchscreen game get rebooted. Apparently this one runs Linux. TIL. \n",
      "\n",
      "0.333 => im trying to have a proper gameday in Canada and nobody in this bar knows how to make bloody marys. \n",
      "\n",
      "0.302 => Looks like my laundromat/bar crossover idea has already been implemented: http://t.co/x35btduo /cc @o_kimly \n",
      "\n",
      "0.289 => Trying to convince myself to go to a health bar and have some health beers so I can watch the hockey game in HD \n",
      "\n",
      "0.277 => Here's to hoping I have decent cell phone service in the small town of Gordo, AL. Was informed there won't be a bar at this wedding. \n",
      "\n",
      "0.277 => Robotics Competition volunteer lunch. Yum! (@ Kobe Japanese Steakhouse &amp; Sushi Bar) http://t.co/BttOMWCo \n",
      "\n",
      "0.258 => Coffee shop meets laundromat. Not as good as my bar laundromat idea, but much better than regular laundromats. Call it Clean Beans. \n",
      "\n",
      "0.250 => Favorite thing about Firefox is that the address bar doesn't do a search for \"nerds.jpg\", but assumes \".jpg\" is a TLD &amp; attempts connection \n",
      "\n"
     ]
    }
   ],
   "source": [
    "search(\"bar\")"
   ]
  },
  {
   "cell_type": "markdown",
   "metadata": {
    "slideshow": {
     "slide_type": "notes"
    }
   },
   "source": [
    "Counter to what I just told you, the first tweet here is actually longer than the others! That's because the word bar appears twice"
   ]
  },
  {
   "cell_type": "code",
   "execution_count": 53,
   "metadata": {
    "collapsed": false,
    "scrolled": true,
    "slideshow": {
     "slide_type": "skip"
    }
   },
   "outputs": [
    {
     "name": "stdout",
     "output_type": "stream",
     "text": [
      "1.000 => roll tide \n",
      "\n",
      "1.000 => roll tide \n",
      "\n",
      "1.000 => off side, roll tide \n",
      "\n",
      "1.000 => roll tide. \n",
      "\n",
      "0.949 => roll tide roll, y'all. \n",
      "\n",
      "0.816 => HAHAHAHA ROLL TIDE \n",
      "\n",
      "0.816 => roll tide, rain \n",
      "\n",
      "0.707 => roll \n",
      "\n",
      "0.707 => GRASS FROM BAMA ROLL TIDE \n",
      "\n",
      "0.632 => Well ROLL TIDE then http://t.co/1Qg0dPWgqv \n",
      "\n",
      "0.535 => Did Kevin just Roll Tide me? Yes, yes he did \n",
      "\n",
      "0.500 => introduced myself to the group and got a solid roll tide. Aw yea \n",
      "\n",
      "0.426 => Instead of screaming \"rolllllllllllll tide roll\" we pounce on the string and go \"...\" because cats don't yell while killing, dummy \n",
      "\n",
      "0.392 => sweet home alabama starts playing in detroit during #TBvsDET (because that makes sense) and i get ready for my part to shout 'roll tide' \n",
      "\n",
      "0.354 => i also have something that’s like a fruit roll-up, but much less sugary \n",
      "\n"
     ]
    }
   ],
   "source": [
    "search(\"ROLL TIDE\")"
   ]
  },
  {
   "cell_type": "markdown",
   "metadata": {
    "slideshow": {
     "slide_type": "slide"
    }
   },
   "source": [
    "# A more slightly more advanced model"
   ]
  },
  {
   "cell_type": "code",
   "execution_count": 54,
   "metadata": {
    "collapsed": false,
    "slideshow": {
     "slide_type": "-"
    }
   },
   "outputs": [],
   "source": [
    "lsi = gensim.models.LsiModel(tweets,\n",
    "                             num_topics=100,\n",
    "                             power_iters=10,\n",
    "                             id2word=tweets.dictionary)"
   ]
  },
  {
   "cell_type": "markdown",
   "metadata": {
    "slideshow": {
     "slide_type": "notes"
    }
   },
   "source": [
    "power_iters says look at these vectors 10 times\n",
    "\n",
    "id2word is for other convience methods of the object, has no affect on outcome"
   ]
  },
  {
   "cell_type": "code",
   "execution_count": 55,
   "metadata": {
    "collapsed": false,
    "slideshow": {
     "slide_type": "fragment"
    }
   },
   "outputs": [
    {
     "data": {
      "text/plain": [
       "(4411, 9294)"
      ]
     },
     "execution_count": 55,
     "metadata": {},
     "output_type": "execute_result"
    }
   ],
   "source": [
    "len(tweets), len(tweets.dictionary)"
   ]
  },
  {
   "cell_type": "code",
   "execution_count": 56,
   "metadata": {
    "collapsed": false,
    "slideshow": {
     "slide_type": "-"
    }
   },
   "outputs": [
    {
     "data": {
      "text/plain": [
       "(4411, 100)"
      ]
     },
     "execution_count": 56,
     "metadata": {},
     "output_type": "execute_result"
    }
   ],
   "source": [
    "len(tweets), lsi.num_topics"
   ]
  },
  {
   "cell_type": "code",
   "execution_count": 57,
   "metadata": {
    "collapsed": false,
    "slideshow": {
     "slide_type": "subslide"
    }
   },
   "outputs": [],
   "source": [
    "lsi_index = gensim.similarities.Similarity('/tmp/lsitweets',\n",
    "                                           lsi[tweets],\n",
    "                                           num_features=lsi.num_topics,\n",
    "                                           num_best=15)"
   ]
  },
  {
   "cell_type": "code",
   "execution_count": 58,
   "metadata": {
    "collapsed": true
   },
   "outputs": [],
   "source": [
    "def lsi_search(query):\n",
    "    \n",
    "    query_bow = tweets.dictionary.doc2bow(preprocess(query))\n",
    "    \n",
    "    for doc, percent in lsi_index[lsi[query_bow]]:\n",
    "        print(\"%.3f\" % percent, \"=>\", tweets.get_original(doc), \"\\n\")"
   ]
  },
  {
   "cell_type": "code",
   "execution_count": 59,
   "metadata": {
    "collapsed": false,
    "slideshow": {
     "slide_type": "subslide"
    }
   },
   "outputs": [
    {
     "name": "stdout",
     "output_type": "stream",
     "text": [
      "0.378 => my cats names are bubbie and pigpen. why haven't I been signing off emails with 👨👵🐷? \n",
      "\n",
      "0.378 => pigpen really enjoys rolling around on the ground. http://t.co/1se5FPsXnM \n",
      "\n"
     ]
    }
   ],
   "source": [
    "search(\"pigpen\") # non-LSI search"
   ]
  },
  {
   "cell_type": "code",
   "execution_count": 60,
   "metadata": {
    "collapsed": false,
    "slideshow": {
     "slide_type": "subslide"
    }
   },
   "outputs": [
    {
     "name": "stdout",
     "output_type": "stream",
     "text": [
      "0.975 => my cats names are bubbie and pigpen. why haven't I been signing off emails with 👨👵🐷? \n",
      "\n",
      "0.937 => i only interact with #brands if they ask me about my cats first \n",
      "\n",
      "0.933 => my cats are currently flipping out about #meowthejewels \n",
      "\n",
      "0.923 => the travel tranquilizers I gave my cats made one of them cross-eyed \n",
      "\n",
      "0.917 => one of my cats definitely chases her tail \n",
      "\n",
      "0.891 => Snapchat videos of my cats meowing as apologies as a service \n",
      "\n",
      "0.798 => So I played my unsent Snapchat of my cats being cute as hell during a midterm when I went to view one sent to me \n",
      "\n",
      "0.785 => It's always so difficult to sleep in unfamiliar places. But at least there are two cats to keep me company on this couch \n",
      "\n",
      "0.768 => update: cats still playing with bug. it's not as dead as I originally thought \n",
      "\n",
      "0.746 => Yelling at my cats to go back to bed, it's too early, and take off all that swag you look ridiculous \n",
      "\n",
      "0.743 => Instead of screaming \"rolllllllllllll tide roll\" we pounce on the string and go \"...\" because cats don't yell while killing, dummy \n",
      "\n",
      "0.712 => I should invest in one of those networked webcams so I can look at my cats while I'm away on trips \n",
      "\n",
      "0.664 => The cats and I decided we would have our own party. It involves running around the apartment with string, because f the police \n",
      "\n",
      "0.644 => Spiders will never ever be cute \n",
      "\n",
      "0.626 => MARITAL STATUS:\n",
      "☐ Single\n",
      "☐ Married\n",
      "☐ Divorced\n",
      "☑ Single, but happily with cats \n",
      "\n"
     ]
    }
   ],
   "source": [
    "lsi_search(\"pigpen\")"
   ]
  },
  {
   "cell_type": "markdown",
   "metadata": {
    "slideshow": {
     "slide_type": "slide"
    }
   },
   "source": [
    "# WE NEED TO GO DEEPER *BRRRRRRRAAAAAWWWWRWRRRMRMRMMMMM*\n",
    "\n",
    "![Deeper](images/gifs/deeper.gif)\n",
    "\n",
    "## A deep-learning approach\n",
    "\n",
    "Warning: here be Gensim dragons\n",
    "\n",
    "gif credit: http://prostheticknowledge.tumblr.com/post/128044261341/implementation-of-a-neural-algorithm-of-artistic"
   ]
  },
  {
   "cell_type": "code",
   "execution_count": 61,
   "metadata": {
    "collapsed": false,
    "slideshow": {
     "slide_type": "subslide"
    }
   },
   "outputs": [],
   "source": [
    "w2v = gensim.models.Word2Vec.load_word2vec_format('GoogleNews-vectors-negative300.bin.gz',\n",
    "                                                  binary=True)"
   ]
  },
  {
   "cell_type": "markdown",
   "metadata": {
    "slideshow": {
     "slide_type": "fragment"
    }
   },
   "source": [
    "### How does \"king - man + woman = queen\"?\n",
    "\n",
    "![Vectors](images/gifs/vectors.gif)\n",
    "\n",
    "gif credit: http://multithreaded.stitchfix.com/blog/2015/03/11/word-is-worth-a-thousand-vectors/"
   ]
  },
  {
   "cell_type": "code",
   "execution_count": 62,
   "metadata": {
    "collapsed": false,
    "slideshow": {
     "slide_type": "subslide"
    }
   },
   "outputs": [],
   "source": [
    "def generate_vector_sums():\n",
    "    for doc in tweets.iter_texts():  # remember me?\n",
    "        yield gensim.matutils.unitvec(  # DRAGON: hack to make Similarity happy with fullvecs\n",
    "            sum(\n",
    "                (w2v[word] for word in doc if word in w2v),\n",
    "                numpy.zeros(w2v.vector_size)\n",
    "            )\n",
    "        )\n",
    "    \n",
    "w2v_index = gensim.similarities.Similarity('/tmp/w2v_tweets',\n",
    "                                           generate_vector_sums(),\n",
    "                                           num_features=w2v.vector_size,\n",
    "                                           num_best=15)"
   ]
  },
  {
   "cell_type": "code",
   "execution_count": 63,
   "metadata": {
    "collapsed": true,
    "slideshow": {
     "slide_type": "fragment"
    }
   },
   "outputs": [],
   "source": [
    "def search_w2v(query):\n",
    "    query_tokens = preprocess(query)\n",
    "    query_vec = gensim.matutils.unitvec(sum((w2v[word] for word in query_tokens if word in w2v), numpy.zeros(w2v.vector_size)))\n",
    "    \n",
    "    for doc, percent in w2v_index[query_vec]:\n",
    "        print(\"%.3f\" % percent, \"=>\", tweets.get_original(doc), \"\\n\")"
   ]
  },
  {
   "cell_type": "code",
   "execution_count": 64,
   "metadata": {
    "collapsed": false,
    "slideshow": {
     "slide_type": "subslide"
    }
   },
   "outputs": [
    {
     "name": "stdout",
     "output_type": "stream",
     "text": [
      "0.740 => IEEEtrans.cls is drunk \n",
      "\n",
      "0.606 => The university's DNS is drunk \n",
      "\n",
      "0.594 => OH: \"Drunk screaming hotdog trivia.\" \n",
      "\n",
      "0.542 => coffee: it's like getting reverse drunk \n",
      "\n",
      "0.521 => Damn phone typoing names. BTW I AM DRUNK AT A BOY BAND CONCERT \n",
      "\n",
      "0.492 => I was apparently spotted on the local news being a drunk Alabama fan that flooded the streets after the win last night. Whoops. \n",
      "\n",
      "0.481 => i should be reading papers but instead i am drinking coffee and being pumped about drinking more coffee #coffee \n",
      "\n",
      "0.474 => Vim is old enough to drink, y'all. https://t.co/qfZqzlx7Qm \n",
      "\n",
      "0.469 => Hey there random anxiety, what an appropriate time to show up. Another beer please, bartender! \n",
      "\n",
      "0.469 => Just accidentally killed a job that has been running since April.\n",
      "\n",
      "Welp, time to drink. \n",
      "\n",
      "0.466 => how many red bulls can one drink before 7am?\n",
      "\n",
      "a lot \n",
      "\n",
      "0.463 => Day made by a cyclist cussing out a bro in his truck \n",
      "\n",
      "0.452 => damn, someone already beat me to that mango drink name http://t.co/hWzbo3j6de \n",
      "\n",
      "0.437 => This is how gangsters drink coffee while reviewing papers. http://t.co/7e5l5RHr \n",
      "\n",
      "0.436 => The chemistry department that we share a building with has alcohol at events all the time. Why aren't I allowed to get drunk in the lab? \n",
      "\n"
     ]
    }
   ],
   "source": [
    "search_w2v(\"drunk\")"
   ]
  },
  {
   "cell_type": "code",
   "execution_count": 65,
   "metadata": {
    "collapsed": false,
    "slideshow": {
     "slide_type": "subslide"
    }
   },
   "outputs": [
    {
     "name": "stdout",
     "output_type": "stream",
     "text": [
      "0.577 => Cat cuddles http://t.co/zPNgmwTqz7 \n",
      "\n",
      "0.549 => Just saw a bunny while I was walking the dog! Bunnies :) \n",
      "\n",
      "0.547 => Snapchat videos of my cats meowing as apologies as a service \n",
      "\n",
      "0.518 => Picked my kitty up from being spayed today, and Vet tells me she's not allowed to run or jump. Vet has never had a kitten before, apparently \n",
      "\n",
      "0.518 => lap cat is best cat http://t.co/x7ZYkVqbC2 \n",
      "\n",
      "0.511 => The cat met her after school to walk her home. I wish my cats did that. \n",
      "\n",
      "0.511 => I don't see giant roaches often, but when I do, it's because the cats are already on the case #leakyboat http://t.co/QvItKpQFz7 \n",
      "\n",
      "0.510 => \"You are a kitten in a catnip forest\" ok http://t.co/XyFNkoW80b \n",
      "\n",
      "0.502 => ahh, my kitties! 👨👵🐷💕 \n",
      "\n",
      "0.500 => A large pool filled with kittens is also acceptable \n",
      "\n",
      "0.494 => my cats are currently flipping out about #meowthejewels \n",
      "\n",
      "0.489 => actually there are like 5 kittens around that lot 🐱 🐱 🐱 🐱 🐱 \n",
      "\n",
      "0.488 => Cats really like my feet http://t.co/LuAclUIcTb \n",
      "\n",
      "0.488 => someone come over and throw cat treats across the room. i am stuck under this sleeping cat \n",
      "\n",
      "0.484 => things i am thankful for: lap cats http://t.co/iwyid8jx8l \n",
      "\n"
     ]
    }
   ],
   "source": [
    "search_w2v(\"kittens\")"
   ]
  },
  {
   "cell_type": "markdown",
   "metadata": {
    "slideshow": {
     "slide_type": "slide"
    }
   },
   "source": [
    "# Thanks for listening! 😻🍻😸\n",
    "\n",
    "(Is it beer-time yet?)"
   ]
  },
  {
   "cell_type": "code",
   "execution_count": 66,
   "metadata": {
    "collapsed": false
   },
   "outputs": [
    {
     "data": {
      "image/png": "[encoded data removed]",
      "text/plain": [
       "<matplotlib.figure.Figure at 0x111942f90>"
      ]
     },
     "metadata": {},
     "output_type": "display_data"
    }
   ],
   "source": [
    "plot_vecs(cat_phrase_vectors, other_cat, labels=[\"meow\", \"hiss\"])"
   ]
  },
  {
   "cell_type": "markdown",
   "metadata": {},
   "source": [
    "*No tweets were harmed as a result of this talk. <br /> I am a person; people make mistakes and that's okay.*"
   ]
  },
  {
   "cell_type": "markdown",
   "metadata": {
    "slideshow": {
     "slide_type": "slide"
    }
   },
   "source": [
    "### Short-circuiting a full search: inverted index!"
   ]
  },
  {
   "cell_type": "code",
   "execution_count": 67,
   "metadata": {
    "collapsed": false
   },
   "outputs": [],
   "source": [
    "cat_lang3 = [\"meow\", \"hiss\", \"purr\"]\n",
    "\n",
    "cat_phrase_vectors3 = [[1, 0, 3],\n",
    "                       [3, 1, 1],\n",
    "                       [1, 2, 0],\n",
    "                       [0, 1, 3]]\n",
    "\n",
    "inv_index = defaultdict(set)\n",
    "\n",
    "for doc_id, doc in enumerate(cat_phrase_vectors3):\n",
    "    for word_id, freq in enumerate(doc):\n",
    "        if freq:\n",
    "            inv_index[word_id].add(doc_id)"
   ]
  },
  {
   "cell_type": "code",
   "execution_count": 68,
   "metadata": {
    "collapsed": false,
    "slideshow": {
     "slide_type": "-"
    }
   },
   "outputs": [
    {
     "data": {
      "text/plain": [
       "{0, 1, 2}"
      ]
     },
     "execution_count": 68,
     "metadata": {},
     "output_type": "execute_result"
    }
   ],
   "source": [
    "inv_index[0]"
   ]
  },
  {
   "cell_type": "code",
   "execution_count": 69,
   "metadata": {
    "collapsed": false,
    "slideshow": {
     "slide_type": "-"
    }
   },
   "outputs": [
    {
     "data": {
      "text/plain": [
       "{1, 2}"
      ]
     },
     "execution_count": 69,
     "metadata": {},
     "output_type": "execute_result"
    }
   ],
   "source": [
    "inv_index[0].intersection(inv_index[1])"
   ]
  },
  {
   "cell_type": "markdown",
   "metadata": {
    "slideshow": {
     "slide_type": "notes"
    }
   },
   "source": [
    "This is helpful for quickly eliminating measuring similarity for documents where the required keyword never exists.\n",
    "\n",
    "whoosh has a good one of these!"
   ]
  },
  {
   "cell_type": "markdown",
   "metadata": {},
   "source": [
    "[Download this notebook](./searching.ipynb)"
   ]
  }
 ],
 "metadata": {
  "celltoolbar": "Slideshow",
  "kernelspec": {
   "display_name": "Python 2",
   "language": "python",
   "name": "python2"
  },
  "language_info": {
   "codemirror_mode": {
    "name": "ipython",
    "version": 2
   },
   "file_extension": ".py",
   "mimetype": "text/x-python",
   "name": "python",
   "nbconvert_exporter": "python",
   "pygments_lexer": "ipython2",
   "version": "2.7.10"
  }
 },
 "nbformat": 4,
 "nbformat_minor": 0
}
