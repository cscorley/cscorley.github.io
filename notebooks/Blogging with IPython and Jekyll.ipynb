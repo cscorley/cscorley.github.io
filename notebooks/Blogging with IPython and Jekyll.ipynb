{
 "metadata": {
  "name": ""
 },
 "nbformat": 3,
 "nbformat_minor": 0,
 "worksheets": [
  {
   "cells": [
    {
     "cell_type": "markdown",
     "metadata": {},
     "source": [
      "Lately I've been using [IPython][] to do most of my tinkering work.\n",
      "It's pretty neat, to say the least.\n",
      "\n",
      "I've seen around the Internet people using IPython as a way to blog.\n",
      "I thought that this would be a pretty neat way to go about things, and \n",
      "probably save a large amount of time on editing code-centric blog posts.\n",
      "However, the methods I found were either outdated, \n",
      "outputted HTML (usually with gross CSS conflicts),\n",
      "were hacks for other blogging software, or required a plugin.\n",
      "\n",
      "Since I use [Github Pages][] (read: [Jekyll][]) to auto-render my blog, I decided to\n",
      "code up my own method.\n",
      "My method outputs files that are in Markdown with a Jekyll front matter pre-filled.\n",
      "This way, I can still add blog posts in the same format as before and edit if needed.\n",
      "No plugins are required this way, too. Sure, it is manual conversion of notebooks, but\n",
      "that's pretty much the only way to get around the plugin issue *and* still be able to use Github Pages.\n",
      "\n",
      "[IPython]: http://ipython.org/\n",
      "[Github Pages]: http://pages.github.com/\n",
      "[Jekyll]: http://jekyllrb.com/\n",
      "\n",
      "Here are the files you will need to publish a notebook to Jekyll: [https://gist.github.com/cscorley/9144544](https://gist.github.com/cscorley/9144544)\n",
      "\n",
      "* `jekyll.py`: This is the config file used for conversion. It should be placed wherever the profile you are using is. Default is `~/.ipython/profile_default/`\n",
      "* `jekyll.tpl`: I plop all my template files into `~/.ipython/templates`, but put `jekyll.tpl` wherever suits you best (just be sure to change the jekyll.py to point to that location, also)\n",
      "\n",
      "Everything will output into a folder named `notebooks`. \n",
      "You can change this by replacing in the config all instances of 'notebooks' with whatever you want. \n",
      "\n",
      "There is one variable in the config named `BLOG_DIR` \n",
      "that is used to automatically generate the markdown \n",
      "and any support files the notebook needs into this directory. \n",
      "Right now it reads from the environment variable of the same name. \n",
      "You will need to export a `$BLOG_DIR` environment variable to be able to use this script as-is.\n",
      "This is important because the configuration file `jekyll.py` will use this variable unless the configuration is changed.\n",
      "If you just want them to plop into the current directory, change it in the config to an empty string.\n",
      "\n",
      "Finally, you can now run your conversion *on a single file* with the command: `ipython nbconvert --config jekyll.py <FILENAME>`.\n",
      "\n",
      "I did this whole `$BLOG_DIR` and `notebooks` mess because Jekyll was pooping out whenever a markdown file appeared in the notebooks folder I was using. I also wanted the notebooks folder so nbconvert would know where to place any support files, and that Jekyll would blindly copy these into the generated site. Plus, a place to put the notebook files themselves so they can be [downloaded directly](/notebooks/Blogging with IPython and Jekyll.ipynb)! Nice, yeah?\n",
      "\n",
      "Here's a shell function I wrote to convert a notebook file and then move any markdown files created into the drafts folder.\n",
      "    \n",
      "    export BLOG_DIR=\"/Users/cscorley/git/cscorley.github.io\"\n",
      "    nbconvert(){\n",
      "        ipython nbconvert --config jekyll.py $@;\n",
      "        find ${BLOG_DIR}/notebooks/ -name '*.md' -exec mv {} ${BLOG_DIR}/_drafts/ \\;\n",
      "        cp $@ ${BLOG_DIR}/notebooks/\n",
      "    }\n",
      "\n",
      "That's all. I just do `nbconvert FILE` now and it just works. Jekyll doesn't kill itself over it.\n",
      "\n",
      "Below is some example code!"
     ]
    },
    {
     "cell_type": "code",
     "collapsed": false,
     "input": [
      "class Pizza:\n",
      "    def __init__(self, toppings):\n",
      "        self.toppings = toppings\n",
      "        \n",
      "    def is_yummy(self):\n",
      "        return True\n",
      "\n",
      "p = Pizza(['pineapple', 'cheese'])\n",
      "print(p.is_yummy())"
     ],
     "language": "python",
     "metadata": {},
     "outputs": [
      {
       "output_type": "stream",
       "stream": "stdout",
       "text": [
        "True\n"
       ]
      }
     ],
     "prompt_number": 1
    },
    {
     "cell_type": "code",
     "collapsed": false,
     "input": [
      "%pylab inline"
     ],
     "language": "python",
     "metadata": {},
     "outputs": [
      {
       "output_type": "stream",
       "stream": "stdout",
       "text": [
        "Populating the interactive namespace from numpy and matplotlib\n"
       ]
      }
     ],
     "prompt_number": 2
    },
    {
     "cell_type": "markdown",
     "metadata": {},
     "source": [
      "Some code copied from [Wikipedia](https://en.wikipedia.org/wiki/Matplotlib):"
     ]
    },
    {
     "cell_type": "code",
     "collapsed": false,
     "input": [
      ">>> import matplotlib.pyplot as plt\n",
      ">>> import numpy as np\n",
      ">>> a = np.linspace(0,10,100)\n",
      ">>> b = np.exp(-a)\n",
      ">>> plt.plot(a,b)\n",
      ">>> plt.show()"
     ],
     "language": "python",
     "metadata": {},
     "outputs": [
      {
       "metadata": {},
       "output_type": "display_data",
       "png": "[encoded data removed]",
       "text": [
        "<matplotlib.figure.Figure at 0x10dad3d10>"
       ]
      }
     ],
     "prompt_number": 3
    }
   ],
   "metadata": {}
  }
 ]
}