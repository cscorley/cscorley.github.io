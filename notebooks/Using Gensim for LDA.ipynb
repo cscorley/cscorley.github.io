{
 "metadata": {
  "name": "",
  "signature": "sha256:d8e1d87ff1567fee310d7c282bed5886294147c0f3614ca5ede029eccda389d8"
 },
 "nbformat": 3,
 "nbformat_minor": 0,
 "worksheets": [
  {
   "cells": [
    {
     "cell_type": "markdown",
     "metadata": {},
     "source": [
      "This is a short tutorial on how to use Gensim for LDA topic modeling.\n",
      "What is topic modeling? It is basically taking a number of documents (new articles, wikipedia articles, books, &c) and sorting them out into different topics. For example, documents on Babe Ruth and baseball should end up in the same topic, while [Dennis Rodman][] and basketball should end up in another.\n",
      "\n",
      "LDA is an extension of LSI/pLSI using some crazy statistical stuff.\n",
      "Most of that will not matter to us since we aren't implementing LDA.\n",
      "One important thing to consider about LDA, however, is that it is a \n",
      "[mixture model][], which is statistical mumbojumbo for \"documents can be associated with more than one topic.\" That is, and article about Dennis Rodman could be related to multiple topics: basketball, tattoos, and crazy hair colors.\n",
      "\n",
      "Right now, Gensim is in the process of being ported to Python 3.\n",
      "This tutorial is written for Gensim 0.9.1.\n",
      "I'll assume that you've got Gensim installed and working on Python 2 already.\n",
      "\n",
      "[mixture model]: https://en.wikipedia.org/wiki/Mixture_model\n",
      "[Dennis Rodman]: https://en.wikipedia.org/wiki/Dennis_Rodman\n",
      "\n",
      "\n",
      "Let's start, go ahead and import gensim:"
     ]
    },
    {
     "cell_type": "code",
     "collapsed": false,
     "input": [
      "from __future__ import print_function\n",
      "import gensim"
     ],
     "language": "python",
     "metadata": {},
     "outputs": [],
     "prompt_number": 1
    },
    {
     "cell_type": "markdown",
     "metadata": {},
     "source": [
      "In LDA, we infer a certain number of topics from a given corpus.\n",
      "I prefer the Mallet format for corpora,\n",
      "namely because each document has an associated document name or id.\n",
      "Other formats require you to maintain this separately with a key file,\n",
      "but that's just dumb.\n",
      "\n",
      "I've got handy a corpus of every title (already preprocessed) of the Android issue report database.\n",
      "You can download that [here](/static/android_titles.tar.gz).\n",
      "\n",
      "Here is the first three lines (aka the first three documents (aka the first three issue report titles))\n",
      "of the corpus file:"
     ]
    },
    {
     "cell_type": "code",
     "collapsed": false,
     "input": [
      "!head -3 android.mallet"
     ],
     "language": "python",
     "metadata": {},
     "outputs": [
      {
       "output_type": "stream",
       "stream": "stdout",
       "text": [
        "1 en incorrect url address project\r\n",
        "2 en good luck\r\n",
        "3 en http proxy support\r\n"
       ]
      }
     ],
     "prompt_number": 2
    },
    {
     "cell_type": "markdown",
     "metadata": {},
     "source": [
      "Luckily, Gensim supports reading this format directly!\n",
      "So, let's load up our corpus into something Gensim can use internally:"
     ]
    },
    {
     "cell_type": "code",
     "collapsed": false,
     "input": [
      "corpus = gensim.corpora.MalletCorpus('android.mallet')"
     ],
     "language": "python",
     "metadata": {},
     "outputs": [],
     "prompt_number": 3
    },
    {
     "cell_type": "markdown",
     "metadata": {},
     "source": [
      "This might take awhile, because it is building some metadata about the corpus itself."
     ]
    },
    {
     "cell_type": "markdown",
     "metadata": {},
     "source": [
      "Typically, you would use the corpus in a loop like so:\n",
      "\n",
      "``` python\n",
      "for document in corpus:\n",
      "    blah(document)\n",
      "```\n",
      "\n",
      "But, just for our purposes, let's look at the first document it's holding:"
     ]
    },
    {
     "cell_type": "code",
     "collapsed": false,
     "input": [
      "next(iter(corpus))"
     ],
     "language": "python",
     "metadata": {},
     "outputs": [
      {
       "metadata": {},
       "output_type": "pyout",
       "prompt_number": 4,
       "text": [
        "[(6936, 1), (15314, 1), (300, 1), (10981, 1)]"
       ]
      }
     ],
     "prompt_number": 4
    },
    {
     "cell_type": "markdown",
     "metadata": {},
     "source": [
      "Um, what? That doesn't look anything like the first document from before.\n",
      "That's because this is the internal representation Gensim (and all of its modeling algorithms) uses.\n",
      "This is a document, but instead of a list of words, it is a list of tuples where each tuple is\n",
      "a *word id* and frequency pair."
     ]
    },
    {
     "cell_type": "markdown",
     "metadata": {},
     "source": [
      "So we can see word #6936 appears 1 time in the first document.\n",
      "But what is word #6936?\n",
      "Again, let's do that crazy `next(iter(` business so we don't end up going over every document in the corpus.\n",
      "Check this out:"
     ]
    },
    {
     "cell_type": "code",
     "collapsed": false,
     "input": [
      "for word_id, freq in next(iter(corpus)):\n",
      "    print(corpus.id2word[word_id], freq)"
     ],
     "language": "python",
     "metadata": {},
     "outputs": [
      {
       "output_type": "stream",
       "stream": "stdout",
       "text": [
        "incorrect 1\n",
        "url 1\n",
        "address 1\n",
        "project 1\n"
       ]
      }
     ],
     "prompt_number": 5
    },
    {
     "cell_type": "code",
     "collapsed": false,
     "input": [
      "!head -1 android.mallet"
     ],
     "language": "python",
     "metadata": {},
     "outputs": [
      {
       "output_type": "stream",
       "stream": "stdout",
       "text": [
        "1 en incorrect url address project\r\n"
       ]
      }
     ],
     "prompt_number": 6
    },
    {
     "cell_type": "markdown",
     "metadata": {},
     "source": [
      "Badass, yeah?\n",
      "\n",
      "<br /><br />\n",
      "\n",
      "Okay, not really, that's not very interesting.\n",
      "I did something a little different here, and that's using the `corpus.id2word` attribute.\n",
      "It's simply a Python dictionary that maps `id->word` for all words in the corpus.\n",
      "\n",
      "Alright, let's actually generate a model (go ahead and get a sandwich, it'll be a minute):"
     ]
    },
    {
     "cell_type": "code",
     "collapsed": false,
     "input": [
      "model = gensim.models.LdaModel(corpus, id2word=corpus.id2word, alpha='auto', num_topics=25) \n",
      "model.save('android.lda')\n",
      "#model = gensim.models.LdaModel.load('android.lda')"
     ],
     "language": "python",
     "metadata": {},
     "outputs": [],
     "prompt_number": 7
    },
    {
     "cell_type": "markdown",
     "metadata": {},
     "source": [
      "We can save/load the model for later use \n",
      "instead of having to rebuild it every time, as shown in the comment.\n",
      "As much as I enjoy sandwiches, I don't want to do this all the time.\n",
      "\n",
      "There are a couple of parameters other than the corpurs that I've set there. Let's talk about those for a sec:\n",
      "\n",
      "1. **id2word**: Although you can build a model from just a corpus, I've gone ahead and let the LdaModel know about the `corpus.id2word`.\n",
      "It just makes some of the things I'll show you next nicer.\n",
      "2. **alpha**: This particular LDA implementation uses something that can automatically update the `alpha` value for us.\n",
      "This determines how 'smooth' the model is, which makes no damned sense if you aren't working in the area (it doesn't make much sense to me).\n",
      "Here's what alpha does: as it gets smaller, each topic is going to be *more specific*, i.e., likely to only made up of words not in other topics. As it gets bigger, words can begin to appear in multiple topics, which is what we want.\n",
      "The word \"ball\" could appear in a topic on baseball, basketball, football-- okay you get it.\n",
      "It's not good to have a large alpha either, because then all our topics will start intermingling and making out and that's gross.\n",
      "I have no idea how the `'auto'` setting really works, but it seems pretty legit to me so I'll just use that for now.\n",
      "3. **num_topics**:\n",
      "The `num_topics` parameter just determines how many topics we want the model to give us.\n",
      "I've used 25 here since we are only looking at a corpus of titles.\n",
      "\n",
      "Let's look at a few random topics:"
     ]
    },
    {
     "cell_type": "code",
     "collapsed": false,
     "input": [
      "model.show_topics(topics=5, topn=5)"
     ],
     "language": "python",
     "metadata": {},
     "outputs": [
      {
       "metadata": {},
       "output_type": "pyout",
       "prompt_number": 8,
       "text": [
        "['0.047*link + 0.027*ui + 0.018*main + 0.017*level + 0.016*locale',\n",
        " '0.107*tap + 0.047*popup + 0.045*appears + 0.031*request + 0.029*tab',\n",
        " '0.120*play + 0.096*ics + 0.084*music + 0.049*bug + 0.030*android',\n",
        " '0.106*device + 0.078*google + 0.060*talk + 0.057*voice + 0.044*icon',\n",
        " '0.191*screen + 0.055*button + 0.034*change + 0.032*page + 0.032*lock']"
       ]
      }
     ],
     "prompt_number": 8
    },
    {
     "cell_type": "markdown",
     "metadata": {},
     "source": [
      "These are the top 5 words associated with 5 random topics.\n",
      "The decimal number is the *weight* of the word it is multiplying,\n",
      "i.e., how much does this word influence the particular topic.\n",
      "The model knows how to do this because we gave it the `id2word` dictionary.\n",
      "Without it, we wouldn't be able to read this output (still)."
     ]
    },
    {
     "cell_type": "markdown",
     "metadata": {},
     "source": [
      "Now, let's do something actually useful: query the model.\n",
      "\n",
      "Let's say we would like to know which topics a certain string is most associated with."
     ]
    },
    {
     "cell_type": "code",
     "collapsed": false,
     "input": [
      "query = 'google maps broken navigation'\n",
      "query = query.split()\n",
      "query"
     ],
     "language": "python",
     "metadata": {},
     "outputs": [
      {
       "metadata": {},
       "output_type": "pyout",
       "prompt_number": 9,
       "text": [
        "['google', 'maps', 'broken', 'navigation']"
       ]
      }
     ],
     "prompt_number": 9
    },
    {
     "cell_type": "markdown",
     "metadata": {},
     "source": [
      "We query the model by indexing it with our query! \n",
      "But first, we need to transform it into a representation the model understands.\n",
      "We can't just do this (yet):\n",
      "\n",
      "```python\n",
      "model[query]\n",
      "```\n",
      "That will definitely cause us some heartache, because the query is just words. LDA technically knows nothing about the actual words, just the ids we've given them."
     ]
    },
    {
     "cell_type": "markdown",
     "metadata": {},
     "source": [
      "So, let's build something to translate those words back to ids and their frequencies.\n",
      "Gensim has an awesome built in way of doing this called a Dictionary.\n",
      "Sure, we *could* use regular old Python `dict`s to map `id->word` and build the `(word, frequency)` pairs ourselves,\n",
      "but I'm a fancy person that enjoys fancy things.\n",
      "\n",
      "Here's what we do:"
     ]
    },
    {
     "cell_type": "code",
     "collapsed": false,
     "input": [
      "id2word = gensim.corpora.Dictionary()\n",
      "_ = id2word.merge_with(corpus.id2word)"
     ],
     "language": "python",
     "metadata": {},
     "outputs": [],
     "prompt_number": 10
    },
    {
     "cell_type": "markdown",
     "metadata": {},
     "source": [
      "This creates an empty special Dictionary, and then we merge our original corpus dictionary into it. Whatever merge_with returns isn't important to us, so throw it in the Python garbage bin, underscore.\n",
      "\n",
      "This doesn't seem to gain us much, until we want to translate an entire document into `(word, frequency)` pairs:"
     ]
    },
    {
     "cell_type": "code",
     "collapsed": false,
     "input": [
      "query = id2word.doc2bow(query)\n",
      "query"
     ],
     "language": "python",
     "metadata": {},
     "outputs": [
      {
       "metadata": {},
       "output_type": "pyout",
       "prompt_number": 11,
       "text": [
        "[(1754, 1), (6081, 1), (8441, 1), (9208, 1)]"
       ]
      }
     ],
     "prompt_number": 11
    },
    {
     "cell_type": "code",
     "collapsed": false,
     "input": [
      "model[query]"
     ],
     "language": "python",
     "metadata": {},
     "outputs": [
      {
       "metadata": {},
       "output_type": "pyout",
       "prompt_number": 12,
       "text": [
        "[(3, 0.20387470260323143),\n",
        " (9, 0.35862973787398261),\n",
        " (15, 0.010585652382570768),\n",
        " (16, 0.010899567346349904),\n",
        " (18, 0.011132829837161632),\n",
        " (21, 0.22968681811101002),\n",
        " (22, 0.010344492016793241),\n",
        " (23, 0.010589823218917306),\n",
        " (24, 0.010154742173706556)]"
       ]
      }
     ],
     "prompt_number": 12
    },
    {
     "cell_type": "markdown",
     "metadata": {},
     "source": [
      "Awwwwww yeahhhhhhhhhhh.\n",
      "Now we're *cookin' with gas*.\n",
      "\n",
      "From this list, we have each topic and the likelihood that the `query` relates to that topic.\n",
      "So, if we sort this a little more meaningfully:"
     ]
    },
    {
     "cell_type": "code",
     "collapsed": false,
     "input": [
      "a = list(sorted(model[query], key=lambda x: x[1]))\n",
      "print(a[0])\n",
      "print(a[-1])"
     ],
     "language": "python",
     "metadata": {},
     "outputs": [
      {
       "output_type": "stream",
       "stream": "stdout",
       "text": [
        "(24, 0.010154742173743013)\n",
        "(9, 0.35859622416422271)\n"
       ]
      }
     ],
     "prompt_number": 13
    },
    {
     "cell_type": "markdown",
     "metadata": {},
     "source": [
      "We can see that the least and the most related topic to our document.\n",
      "Let's check out what words are most associated with those two topics."
     ]
    },
    {
     "cell_type": "code",
     "collapsed": false,
     "input": [
      "model.print_topic(a[0][0]) #least related"
     ],
     "language": "python",
     "metadata": {},
     "outputs": [
      {
       "metadata": {},
       "output_type": "pyout",
       "prompt_number": 14,
       "text": [
        "'0.063*apps + 0.062*wifi + 0.058*calendar + 0.044*exchange + 0.035*changing + 0.030*location + 0.027*latitude + 0.024*automatically + 0.021*event + 0.020*disappears'"
       ]
      }
     ],
     "prompt_number": 14
    },
    {
     "cell_type": "code",
     "collapsed": false,
     "input": [
      "model.print_topic(a[-1][0]) #most related"
     ],
     "language": "python",
     "metadata": {},
     "outputs": [
      {
       "metadata": {},
       "output_type": "pyout",
       "prompt_number": 15,
       "text": [
        "'0.155*maps + 0.086*issue + 0.054*google + 0.034*android + 0.031*unlock + 0.024*books + 0.020*coming + 0.016*failed + 0.015*note + 0.013*word'"
       ]
      }
     ],
     "prompt_number": 15
    },
    {
     "cell_type": "markdown",
     "metadata": {},
     "source": [
      "So, the first one looks like garbage for our query, but the second seems to be mostly about the Google specific applications, including maps! Not the best results, so this model's number of topics probably needs to be a bit higher, or `alpha` values played with until results pan out.\n",
      "\n",
      "Note how our initial query only returned nine or so related topics. Didn't we ask for 25 of them? Well, we did, but Gensim defaults to only showing the top ones that meet a certain threshold (`>= 0.01`). Digging deeper than that is ugly, so for now we will just deal with these results."
     ]
    },
    {
     "cell_type": "markdown",
     "metadata": {},
     "source": [
      "I am getting pretty tired of looking at this, so I think this will conclude the tutorial on using Gensim's LDA stuff for now. Go ahead and try out this code for yourself."
     ]
    }
   ],
   "metadata": {}
  }
 ]
}